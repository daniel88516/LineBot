{
  "cells": [
    {
      "cell_type": "markdown",
      "metadata": {},
      "source": [
        "### 以下部分只需要執行一遍"
      ]
    },
    {
      "cell_type": "code",
      "execution_count": 3,
      "metadata": {},
      "outputs": [],
      "source": [
        "# import 需要的套件\n",
        "import getpass\n",
        "from pyngrok import ngrok, conf\n",
        "\n",
        "from flask import Flask, request, abort\n",
        "from pyngrok import ngrok\n",
        "import joblib\n",
        "import pandas as pd\n",
        "from linebot import LineBotApi, WebhookHandler\n",
        "from linebot.exceptions import InvalidSignatureError\n",
        "from linebot.models import MessageEvent, TextMessage, TextSendMessage, TemplateSendMessage, ButtonsTemplate, PostbackAction, PostbackEvent"
      ]
    },
    {
      "cell_type": "code",
      "execution_count": 4,
      "metadata": {
        "colab": {
          "base_uri": "https://localhost:8080/"
        },
        "id": "23y67tpOoX6I",
        "outputId": "a9863a5b-540e-4b20-81c2-1434abfbac0c"
      },
      "outputs": [
        {
          "name": "stdout",
          "output_type": "stream",
          "text": [
            "Authtoken saved to configuration file: C:\\Users\\lenovo\\AppData\\Local/ngrok/ngrok.yml\n"
          ]
        }
      ],
      "source": [
        "# 和 ngrok 帳戶進行綁定\n",
        "!ngrok authtoken 2ijB2VvqZjVlxIhjxBtYK5xxWPA_5phxT2XFA6Cuviu4iAmSk"
      ]
    },
    {
      "cell_type": "code",
      "execution_count": 5,
      "metadata": {
        "colab": {
          "base_uri": "https://localhost:8080/"
        },
        "id": "usggJ4-3pPUo",
        "outputId": "cf697ed6-7a71-43b7-cd62-9cf06be08c60"
      },
      "outputs": [
        {
          "name": "stdout",
          "output_type": "stream",
          "text": [
            "Enter your authtoken, which can be copied from https://dashboard.ngrok.com/auth\n",
            " * ngrok tunnel available, access with `ssh root@8.tcp.ngrok.io -p11707`\n"
          ]
        }
      ],
      "source": [
        "# 輸入 ngrok token 並與 ngrok 進行認證。\n",
        "print(\"Enter your authtoken, which can be copied from https://dashboard.ngrok.com/auth\")\n",
        "conf.get_default().auth_token = getpass.getpass()\n",
        "\n",
        "# Open a TCP ngrok tunnel to the SSH server\n",
        "connection_string = ngrok.connect(\"22\", \"tcp\").public_url\n",
        "\n",
        "ssh_url, port = connection_string.strip(\"tcp://\").split(\":\")\n",
        "print(f\" * ngrok tunnel available, access with `ssh root@{ssh_url} -p{port}`\")\n",
        "\n",
        "# 2ijB2VvqZjVlxIhjxBtYK5xxWPA_5phxT2XFA6Cuviu4iAmSk"
      ]
    },
    {
      "cell_type": "code",
      "execution_count": 6,
      "metadata": {},
      "outputs": [
        {
          "name": "stdout",
          "output_type": "stream",
          "text": [
            " * ngrok tunnel \"https://e941-60-248-51-153.ngrok-free.app\" -> \"http://127.0.0.1:5000\" \n"
          ]
        },
        {
          "name": "stderr",
          "output_type": "stream",
          "text": [
            "C:\\Users\\lenovo\\AppData\\Local\\Temp\\ipykernel_9976\\1692854908.py:15: LineBotSdkDeprecatedIn30: Call to deprecated class LineBotApi. (Use v3 class; linebot.v3.<feature>. See https://github.com/line/line-bot-sdk-python/blob/master/README.rst for more details.) -- Deprecated since version 3.0.0.\n",
            "  line_bot_api = LineBotApi(access_token)  # token 確認\n",
            "C:\\Users\\lenovo\\AppData\\Local\\Temp\\ipykernel_9976\\1692854908.py:16: LineBotSdkDeprecatedIn30: Call to deprecated class WebhookHandler. (Use 'from linebot.v3.webhook import WebhookHandler' instead. See https://github.com/line/line-bot-sdk-python/blob/master/README.rst for more details.) -- Deprecated since version 3.0.0.\n",
            "  handler = WebhookHandler(secret)      # secret 確認\n"
          ]
        }
      ],
      "source": [
        "app = Flask(__name__)\n",
        "port = 5000\n",
        "\n",
        "# Set up ngrok tunnel to expose local server\n",
        "public_url = ngrok.connect(port).public_url\n",
        "print(f\" * ngrok tunnel \\\"{public_url}\\\" -> \\\"http://127.0.0.1:{port}\\\" \") # 印出 tunnel\n",
        "\n",
        "# Line API 驗證\n",
        "# 皓瑄 API \n",
        "# access_token = 'hr57G9x2N1RzDTLfuTmZcmEGbp4NOE+RhKy9bpYVAmJh8kkdmOxjjI2XyyJ1pL2G7fuT0dFbzu7tN/9CXcZtJM6r9n7XLE5ftm04RyX1mNoQ36SLxG+aZo6cGOQe0RUNcsPDNT2Jr+/0THQ4SboBuwdB04t89/1O/w1cDnyilFU='\n",
        "# secret = '55bd2bf40d93d598909c39d480562ddd'\n",
        "# 立宇 API \n",
        "access_token = '5wVS/iUy2WzX8Xgbb8UMR1SRjRiFUTZ/hzxY7VyVOhlqL67rJEBli2hjFn0cnDuOu/cy/TjTcF7a7uVEoIe5qzVK1UDTu0NJtcWjO0Y+AYxTYrrDNZwnZZhQC9FQzPosJO6pHH5RrMTEA3paoVoC4AdB04t89/1O/w1cDnyilFU='\n",
        "secret = 'c4a775434285e5044364bfc085a0af68'\n",
        "line_bot_api = LineBotApi(access_token)  # token 確認\n",
        "handler = WebhookHandler(secret)      # secret 確認"
      ]
    },
    {
      "cell_type": "code",
      "execution_count": 7,
      "metadata": {},
      "outputs": [],
      "source": [
        "\"\"\"\n",
        "接收並處理來自 Line 平台的 Webhook 請求。\n",
        "獲取並驗證請求的簽名。\n",
        "調用相應的處理函數處理請求數據。\n",
        "在簽名驗證失敗時返回 400 錯誤碼。\n",
        "\"\"\"\n",
        "@app.route(\"/\", methods=['POST'])\n",
        "def webhook():\n",
        "    body = request.get_data(as_text=True)\n",
        "    signature = request.headers['X-Line-Signature']\n",
        "    try:\n",
        "        handler.handle(body, signature)\n",
        "    except InvalidSignatureError:\n",
        "        abort(400)\n",
        "    return 'OK'"
      ]
    },
    {
      "cell_type": "markdown",
      "metadata": {},
      "source": [
        "### 每次都要執行一遍"
      ]
    },
    {
      "cell_type": "code",
      "execution_count": 8,
      "metadata": {},
      "outputs": [],
      "source": [
        "# 載入模型\n",
        "model = joblib.load('./diabete_prediction_model.pkl')"
      ]
    },
    {
      "cell_type": "code",
      "execution_count": 9,
      "metadata": {},
      "outputs": [],
      "source": [
        "# 定義 Question 類別, 方便問問題\n",
        "class Question:\n",
        "    def __init__(self, question_text):\n",
        "        # 設定問題的文字內容\n",
        "        self.question_text = question_text\n",
        "\n",
        "    def ask_question(self, reply_token):\n",
        "        raise NotImplementedError(\"這個方法應該在子類別實現\")\n",
        "\n",
        "class TextQuestion(Question):\n",
        "    def __init__(self, question_text):\n",
        "        # 初始化跟父類別相同\n",
        "        super().__init__(question_text)\n",
        "\n",
        "    def ask_question(self, reply_token):\n",
        "        # 傳送文字問題\n",
        "        message = TextSendMessage(text=self.question_text)\n",
        "        # 使用 reply 方法傳送\n",
        "        line_bot_api.reply_message(reply_token, message)\n",
        "\n",
        "class ButtonQuestion(Question):\n",
        "    def __init__(self, question_text, choices, introduction=None):\n",
        "        super().__init__(question_text)\n",
        "        self.introduction = introduction if introduction else \"請選擇您的\" + question_text\n",
        "        self.choices = choices\n",
        "\n",
        "    def ask_question(self, reply_token):\n",
        "        actions = [PostbackAction(label=label, data=data) for label, data in self.choices]\n",
        "        template_message = TemplateSendMessage(\n",
        "            alt_text= \"請輸入\" + self.question_text,\n",
        "            template=ButtonsTemplate(\n",
        "                title=self.question_text,\n",
        "                text=self.introduction,\n",
        "                actions=actions\n",
        "            )\n",
        "        )\n",
        "        line_bot_api.reply_message(reply_token, template_message)\n"
      ]
    },
    {
      "cell_type": "code",
      "execution_count": 10,
      "metadata": {},
      "outputs": [],
      "source": [
        "# 紀錄用戶當前輸入狀態\n",
        "user_state = {}\n",
        "# 問題列表, 之後可以在更加簡化\n",
        "introduction = (\"您好，我是健康智能管家。\\n\"\n",
        "                \"也是糖尿病預測專家，\\n\"\n",
        "                \"您可以叫我阿瑄=U=\\n\"\n",
        "                \"請問是否進行糖尿病預測呢?\")\n",
        "questions = [\n",
        "    # 第一個問題, introduction 太長, 用變數存\n",
        "    ButtonQuestion('是否進行糖尿病預測？', [('是', 'continue'), ('否', 'exit')], introduction),\n",
        "    ButtonQuestion('性別', [('男', '0'), ('女', '1'), ('其他', '2')]),\n",
        "    ButtonQuestion('高血壓狀況', [('有', '1'), ('無', '0')]),\n",
        "    ButtonQuestion('心臟病狀況', [('有', '1'), ('無', '0')]),\n",
        "    ButtonQuestion('吸煙習慣', [('天天抽菸', '4'), ('目前有吸菸', '3'), ('曾經有過', '1'), ('未曾吸菸', '0')]),\n",
        "    TextQuestion(\"請輸入年齡: \"),\n",
        "    TextQuestion(\"請輸入BMI: \"),\n",
        "    TextQuestion(\"請輸入HbA1c水平: \"),\n",
        "    TextQuestion(\"請輸入血糖水平: \")\n",
        "]"
      ]
    },
    {
      "cell_type": "code",
      "execution_count": 11,
      "metadata": {},
      "outputs": [],
      "source": [
        "# 最後輸出, 根據使用者輸入預測結果\n",
        "def process_final_input(reply_token, user_id):\n",
        "    # 獲取使用者資料\n",
        "    user_data = user_state[user_id]['data']\n",
        "    # pop 第一個問題的答案 ( 詢問是否預測 )\n",
        "    user_data.pop(0)\n",
        "    # 將使用者輸入轉換成 pandas, 並加入標籤\n",
        "    user_input = pd.DataFrame([user_data], columns=[\n",
        "        'gender', 'age', 'hypertension', 'heart_disease', 'smoking_history',\n",
        "        'bmi', 'HbA1c_level', 'blood_glucose_level'\n",
        "    ])\n",
        "\n",
        "    prediction = model.predict(user_input)\n",
        "    result = \"没有糖尿病\" if prediction[0] == 0 else \"有糖尿病\"\n",
        "\n",
        "    prediction = model.predict_proba(user_input)[0]\n",
        "\n",
        "    # reply Message, 接收用戶輸入之後傳送結果\n",
        "    line_bot_api.reply_message(reply_token, [\n",
        "        TextSendMessage(text=f\"{result}\"),\n",
        "        TextSendMessage(text=f\"糖尿病機率:{prediction[1]*100:.2f}%\"),\n",
        "    ])   \n",
        "    EndPrediction(reply_token, user_id)\n",
        "# 刪除使用者資料\n",
        "def EndPrediction(reply_token, user_id):\n",
        "    line_bot_api.reply_message(reply_token, TextSendMessage(text=\"謝謝光臨!! 有需要都可以在叫我喔\")) \n",
        "    del user_state[user_id]"
      ]
    },
    {
      "cell_type": "code",
      "execution_count": 12,
      "metadata": {},
      "outputs": [],
      "source": [
        "# 初始化新的使用者\n",
        "def initializeNewUser(reply_token, user_id):\n",
        "    # 初始化\n",
        "    user_state[user_id] = {'step': 0, 'data': []}\n",
        "    # 問第一個問題\n",
        "    questions[0].ask_question(reply_token)\n",
        "    return"
      ]
    },
    {
      "cell_type": "code",
      "execution_count": 13,
      "metadata": {},
      "outputs": [],
      "source": [
        "# 正整數驗證\n",
        "def validate_numeric_input(event, msg):\n",
        "    if not msg.isdigit():\n",
        "        line_bot_api.reply_message(event.reply_token, TextSendMessage(text=\"請輸入正確的數字\"))\n",
        "        return False\n",
        "    if float(msg) <= 0:\n",
        "        line_bot_api.reply_message(event.reply_token, TextSendMessage(text=\"請輸入大於 0 的有效數字\"))\n",
        "        return False\n",
        "    return True"
      ]
    },
    {
      "cell_type": "code",
      "execution_count": 14,
      "metadata": {},
      "outputs": [],
      "source": [
        "#下一個問題\n",
        "def nextQuestion(reply_token, user_id):\n",
        "    user_state[user_id]['step'] += 1\n",
        "    # 還沒到最後一個問題: 繼續問下一個問題\n",
        "    if user_state[user_id]['step'] < len(questions):\n",
        "        questions[user_state[user_id]['step']].ask_question(reply_token)\n",
        "    else:\n",
        "        # 否則輸出最後結果\n",
        "        process_final_input(reply_token, user_id)"
      ]
    },
    {
      "cell_type": "code",
      "execution_count": 15,
      "metadata": {},
      "outputs": [],
      "source": [
        "# 用戶傳送訊息的時候做出的回覆\n",
        "@handler.add(MessageEvent, message=TextMessage)\n",
        "def handle_text_message(event):\n",
        "    user_id = event.source.user_id\n",
        "    msg = event.message.text\n",
        "    # 初始化新的使用者 or 判斷輸入\n",
        "    if user_id not in user_state:\n",
        "        initializeNewUser(event.reply_token, user_id)\n",
        "        return\n",
        "    if isinstance(questions[user_state[user_id]['step']], ButtonQuestion):\n",
        "        # 按鈕問題不應該輸入文字回答\n",
        "        line_bot_api.reply_message(event.reply_token, TextSendMessage(text=\"請選擇按鈕選項\"))\n",
        "        return\n",
        "    # 數字驗證\n",
        "    if not validate_numeric_input(event, msg):\n",
        "        return\n",
        "    # 將資料加入, 前往下一題\n",
        "    # 驗證通過，加入正確資料，前往下一題目\n",
        "    user_state[user_id]['data'].append(float(msg))\n",
        "    nextQuestion(event.reply_token, user_id)"
      ]
    },
    {
      "cell_type": "code",
      "execution_count": 16,
      "metadata": {},
      "outputs": [],
      "source": [
        "# 按鈕按下之後的回應\n",
        "@handler.add(PostbackEvent)\n",
        "def handle_postback(event):\n",
        "    # 獲取使用者與回傳的按鈕資訊\n",
        "    user_id = event.source.user_id\n",
        "    postback_data = event.postback.data\n",
        "    # 初始化新的使用者 or 判斷輸入\n",
        "    if user_id not in user_state:\n",
        "        initializeNewUser(event.reply_token, user_id)\n",
        "        return\n",
        "    elif isinstance(questions[user_state[user_id]['step']], TextQuestion):\n",
        "        # 文字問題不接受按鈕回答\n",
        "        line_bot_api.reply_message(event.reply_token, TextSendMessage(text=\"請輸入數字\"))\n",
        "        return\n",
        "    # 第一個的按鈕問題特別判斷 ( 任何問題都可以加入 exit)\n",
        "    user_state[user_id]['data'].append(postback_data)\n",
        "    if(postback_data == 'exit'):\n",
        "        EndPrediction(event.reply_token, user_id)\n",
        "        return\n",
        "    nextQuestion(event.reply_token, user_id)"
      ]
    },
    {
      "cell_type": "code",
      "execution_count": 17,
      "metadata": {},
      "outputs": [
        {
          "name": "stdout",
          "output_type": "stream",
          "text": [
            "https://e941-60-248-51-153.ngrok-free.app\n",
            " * Serving Flask app '__main__'\n",
            " * Debug mode: off\n"
          ]
        },
        {
          "name": "stderr",
          "output_type": "stream",
          "text": [
            "WARNING: This is a development server. Do not use it in a production deployment. Use a production WSGI server instead.\n",
            " * Running on http://127.0.0.1:5000\n",
            "Press CTRL+C to quit\n",
            "127.0.0.1 - - [09/Jul/2024 13:07:24] \"POST / HTTP/1.1\" 200 -\n",
            "C:\\Users\\lenovo\\AppData\\Local\\Temp\\ipykernel_9976\\3289835873.py:37: LineBotSdkDeprecatedIn30: Call to deprecated method reply_message. (Use 'from linebot.v3.messaging import MessagingApi' and 'MessagingApi(...).reply_message(...)' instead. See https://github.com/line/line-bot-sdk-python/blob/master/README.rst for more details.) -- Deprecated since version 3.0.0.\n",
            "  line_bot_api.reply_message(reply_token, template_message)\n",
            "127.0.0.1 - - [09/Jul/2024 13:11:07] \"POST / HTTP/1.1\" 200 -\n",
            "C:\\Users\\lenovo\\AppData\\Local\\Temp\\ipykernel_9976\\1832442326.py:12: LineBotSdkDeprecatedIn30: Call to deprecated method reply_message. (Use 'from linebot.v3.messaging import MessagingApi' and 'MessagingApi(...).reply_message(...)' instead. See https://github.com/line/line-bot-sdk-python/blob/master/README.rst for more details.) -- Deprecated since version 3.0.0.\n",
            "  line_bot_api.reply_message(event.reply_token, TextSendMessage(text=\"請選擇按鈕選項\"))\n",
            "127.0.0.1 - - [09/Jul/2024 13:12:17] \"POST / HTTP/1.1\" 200 -\n",
            "127.0.0.1 - - [09/Jul/2024 13:12:24] \"POST / HTTP/1.1\" 200 -\n"
          ]
        }
      ],
      "source": [
        "print(public_url)\n",
        "if __name__ == \"__main__\":\n",
        "    app.run(port=port)\n",
        "# 2ijB2VvqZjVlxIhjxBtYK5xxWPA_5phxT2XFA6Cuviu4iAmSk\n",
        "# tasklist /FI \"IMAGENAME eq ngrok.exe\n",
        "# taskkill /PID ngrok.exe /F"
      ]
    }
  ],
  "metadata": {
    "colab": {
      "provenance": []
    },
    "kernelspec": {
      "display_name": "Python 3",
      "name": "python3"
    },
    "language_info": {
      "codemirror_mode": {
        "name": "ipython",
        "version": 3
      },
      "file_extension": ".py",
      "mimetype": "text/x-python",
      "name": "python",
      "nbconvert_exporter": "python",
      "pygments_lexer": "ipython3",
      "version": "3.8.15"
    }
  },
  "nbformat": 4,
  "nbformat_minor": 0
}
