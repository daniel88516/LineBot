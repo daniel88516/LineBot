{
  "cells": [
    {
      "cell_type": "markdown",
      "metadata": {},
      "source": [
        "### 以下部分只需要執行一遍"
      ]
    },
    {
      "cell_type": "code",
      "execution_count": null,
      "metadata": {},
      "outputs": [],
      "source": [
        "# ngrok\n",
        "import getpass\n",
        "from pyngrok import ngrok, conf\n",
        "from flask import Flask, request, abort\n",
        "from pyngrok import ngrok\n",
        "\n",
        "# 環境變數\n",
        "import os\n",
        "from dotenv import load_dotenv\n",
        "\n",
        "# 檔案處理\n",
        "import joblib\n",
        "import pandas as pd\n",
        "\n",
        "# LineBot\n",
        "from linebot import LineBotApi, WebhookHandler\n",
        "from linebot.exceptions import InvalidSignatureError\n",
        "from linebot.models import MessageEvent, TextMessage, TextSendMessage, TemplateSendMessage, ButtonsTemplate, PostbackAction, PostbackEvent"
      ]
    },
    {
      "cell_type": "code",
      "execution_count": null,
      "metadata": {
        "colab": {
          "base_uri": "https://localhost:8080/"
        },
        "id": "23y67tpOoX6I",
        "outputId": "a9863a5b-540e-4b20-81c2-1434abfbac0c"
      },
      "outputs": [],
      "source": [
        "# 和 ngrok 帳戶進行綁定\n",
        "!ngrok authtoken 2ijB2VvqZjVlxIhjxBtYK5xxWPA_5phxT2XFA6Cuviu4iAmSk"
      ]
    },
    {
      "cell_type": "code",
      "execution_count": null,
      "metadata": {
        "colab": {
          "base_uri": "https://localhost:8080/"
        },
        "id": "usggJ4-3pPUo",
        "outputId": "cf697ed6-7a71-43b7-cd62-9cf06be08c60"
      },
      "outputs": [],
      "source": [
        "# 輸入 ngrok token 並與 ngrok 進行認證。\n",
        "print(\"Enter your authtoken\")\n",
        "conf.get_default().auth_token = getpass.getpass()\n",
        "\n",
        "# Open a TCP ngrok tunnel to the SSH server\n",
        "connection_string = ngrok.connect(\"22\", \"tcp\").public_url\n",
        "\n",
        "ssh_url, port = connection_string.strip(\"tcp://\").split(\":\")\n",
        "print(f\" * ngrok tunnel available, access with `ssh root@{ssh_url} -p{port}`\")\n",
        "\n",
        "# 2ijB2VvqZjVlxIhjxBtYK5xxWPA_5phxT2XFA6Cuviu4iAmSk"
      ]
    },
    {
      "cell_type": "code",
      "execution_count": null,
      "metadata": {},
      "outputs": [],
      "source": [
        "# 載入 .env 文件\n",
        "load_dotenv()"
      ]
    },
    {
      "cell_type": "code",
      "execution_count": null,
      "metadata": {},
      "outputs": [],
      "source": [
        "app = Flask(__name__)\n",
        "port = 5000\n",
        "\n",
        "# Set up ngrok tunnel to expose local server\n",
        "public_url = ngrok.connect(port).public_url\n",
        "print(f\" * ngrok tunnel \\\"{public_url}\\\" -> \\\"http://127.0.0.1:{port}\\\" \") # 印出 tunnel\n",
        "\n",
        "# Line API 驗證\n",
        "access_token = os.getenv('LINE_ACCESS_TOKEN')\n",
        "secret = os.getenv('LINE_SECRET')\n",
        "line_bot_api = LineBotApi(access_token)  # token 確認\n",
        "handler = WebhookHandler(secret)      # secret 確認"
      ]
    },
    {
      "cell_type": "code",
      "execution_count": null,
      "metadata": {},
      "outputs": [],
      "source": [
        "\"\"\"\n",
        "接收並處理來自 Line 平台的 Webhook 請求。\n",
        "獲取並驗證請求的簽名。\n",
        "調用相應的處理函數處理請求數據。\n",
        "在簽名驗證失敗時返回 400 錯誤碼。\n",
        "\"\"\"\n",
        "@app.route(\"/\", methods=['POST'])\n",
        "def webhook():\n",
        "    body = request.get_data(as_text=True)\n",
        "    signature = request.headers['X-Line-Signature']\n",
        "    try:\n",
        "        handler.handle(body, signature)\n",
        "    except InvalidSignatureError:\n",
        "        abort(400)\n",
        "    return 'OK'"
      ]
    },
    {
      "cell_type": "markdown",
      "metadata": {},
      "source": [
        "### 每次都要執行一遍"
      ]
    },
    {
      "cell_type": "code",
      "execution_count": 251,
      "metadata": {},
      "outputs": [
        {
          "name": "stderr",
          "output_type": "stream",
          "text": [
            "d:\\Users\\lenovo\\anaconda3\\envs\\mnist-env\\lib\\site-packages\\sklearn\\base.py:348: InconsistentVersionWarning: Trying to unpickle estimator LogisticRegression from version 1.3.0 when using version 1.3.2. This might lead to breaking code or invalid results. Use at your own risk. For more info please refer to:\n",
            "https://scikit-learn.org/stable/model_persistence.html#security-maintainability-limitations\n",
            "  warnings.warn(\n"
          ]
        }
      ],
      "source": [
        "# 載入模型\n",
        "model = joblib.load('./diabete_prediction_model.pkl')"
      ]
    },
    {
      "cell_type": "code",
      "execution_count": 252,
      "metadata": {},
      "outputs": [],
      "source": [
        "# 定義 Question 類別, 方便問問題\n",
        "class Question:\n",
        "    def __init__(self, question_text):\n",
        "        # 設定問題的文字內容\n",
        "        self.question_text = question_text\n",
        "    def ask_question(self, reply_token):\n",
        "        raise NotImplementedError(\"這個方法應該在子類別實現\")\n",
        "\n",
        "class TextQuestion(Question):\n",
        "    def __init__(self, question_text):\n",
        "        # 初始化跟父類別相同\n",
        "        super().__init__(question_text)\n",
        "\n",
        "    def ask_question(self, reply_token):\n",
        "        # 傳送文字問題\n",
        "        message = TextSendMessage(text=self.question_text)\n",
        "        # 使用 reply 方法傳送\n",
        "        line_bot_api.reply_message(reply_token, message)\n",
        "        \n",
        "class ButtonQuestion(Question):\n",
        "    def __init__(self, question_text, choices, introduction=None):\n",
        "        super().__init__(question_text)\n",
        "        self.introduction = introduction if introduction else \"請選擇您的\" + question_text\n",
        "        self.choices = choices\n",
        "\n",
        "    def ask_question(self, reply_token):\n",
        "        actions = [PostbackAction(label=label, data=data) for label, data in self.choices]\n",
        "        template_message = TemplateSendMessage(\n",
        "            alt_text= \"請輸入\" + self.question_text,\n",
        "            template=ButtonsTemplate(\n",
        "                title=self.question_text,\n",
        "                text=self.introduction,\n",
        "                actions=actions\n",
        "            )\n",
        "        )\n",
        "        line_bot_api.reply_message(reply_token, template_message)"
      ]
    },
    {
      "cell_type": "code",
      "execution_count": 253,
      "metadata": {},
      "outputs": [],
      "source": [
        "class UserState:\n",
        "    # 建構函式, 初始化用戶狀態, 紀錄 step, Question, data \n",
        "    def __init__(self, questions):\n",
        "        self.step = 0\n",
        "        self.questions = questions\n",
        "        self.data = []"
      ]
    },
    {
      "cell_type": "code",
      "execution_count": 254,
      "metadata": {},
      "outputs": [],
      "source": [
        "# 紀錄用戶當前輸入狀態\n",
        "user_state = {}\n",
        "# 問題列表, 之後可以在更加簡化\n",
        "introduction = (\"您好，我是健康智能管家。\\n\"\n",
        "                \"您可以叫我阿瑄=U=\\n\"\n",
        "                \"請問是否進行疾病預測呢?\")\n",
        "introQuestions = [\n",
        "    ButtonQuestion('是否進行疾病預測？', [('是', 'continue'), ('否', 'exit')], introduction),\n",
        "    ButtonQuestion('請選擇預測項目', [('糖尿病', 'diabete'), ('高血壓', 'hypertension'), ('心臟病', 'heart_disease')])\n",
        "]\n",
        "diabeteQuestions = [\n",
        "    ButtonQuestion('性別', [('男', '0'), ('女', '1'), ('其他', '2')]),\n",
        "    TextQuestion(\"請輸入年齡: \"),\n",
        "    TextQuestion(\"請輸入BMI: \"),\n",
        "    TextQuestion(\"請輸入HbA1c水平: \"),\n",
        "    TextQuestion(\"請輸入血糖水平: \")\n",
        "]"
      ]
    },
    {
      "cell_type": "code",
      "execution_count": 255,
      "metadata": {},
      "outputs": [],
      "source": [
        "# 初始化新的使用者\n",
        "def initializeNewUser(reply_token, user_id):\n",
        "    # 初始化\n",
        "    user_state[user_id] = UserState(introQuestions)\n",
        "    # 問第一個問題\n",
        "    user_state[user_id].questions[0].ask_question(reply_token)"
      ]
    },
    {
      "cell_type": "code",
      "execution_count": 256,
      "metadata": {},
      "outputs": [],
      "source": [
        "\n",
        "# 最後輸出, 根據使用者輸入預測結果\n",
        "def process_final_input(reply_token, user_id):\n",
        "    # 獲取使用者資料\n",
        "    user_data = user_state[user_id].data\n",
        "    # 將使用者輸入轉換成 pandas, 並加入標籤\n",
        "    \n",
        "    user_input = pd.DataFrame([user_data], columns=['gender', 'age', 'bmi', 'HbA1c_level', 'blood_glucose_level'])\n",
        "\n",
        "    prediction = model.predict(user_input)\n",
        "    result = \"没有糖尿病\" if prediction[0] == 0 else \"有糖尿病\"\n",
        "\n",
        "    prediction = model.predict_proba(user_input)[0]\n",
        "\n",
        "    # reply Message, 接收用戶輸入之後傳送結果\n",
        "    line_bot_api.reply_message(reply_token, [\n",
        "        TextSendMessage(text=f\"{result}\"),\n",
        "        TextSendMessage(text=f\"糖尿病機率:{prediction[1]*100:.2f}%\")\n",
        "    ])   \n",
        "    EndPrediction(reply_token, user_id)\n",
        "    \n",
        "# 刪除使用者資料\n",
        "def EndPrediction(reply_token, user_id):\n",
        "    try:\n",
        "        line_bot_api.reply_message(reply_token, TextSendMessage(text=\"謝謝光臨!! 有需要都可以在叫我喔\"))\n",
        "    except LineBotApiError as e:\n",
        "        print(f\"LineBotApiError: {e.status_code} - {e.error.message}\")\n",
        "        # Handle the error or log it appropriately\n",
        "\n",
        "    \n",
        "#下一個問題\n",
        "def NextQuestion(reply_token, user_id):\n",
        "    user_state[user_id].step += 1\n",
        "    curStep = user_state[user_id].step\n",
        "    # 還沒到最後一個問題: 繼續問下一個問題\n",
        "    if curStep < len(user_state[user_id].questions):\n",
        "        user_state[user_id].questions[curStep].ask_question(reply_token)\n",
        "    else:\n",
        "        # 否則輸出最後結果\n",
        "        process_final_input(reply_token, user_id)\n",
        "\n",
        "# 正整數驗證\n",
        "def validate_numeric_input(event, msg):\n",
        "    if not msg.isdigit():\n",
        "        line_bot_api.reply_message(event.reply_token, TextSendMessage(text=\"請輸入正確的數字\"))\n",
        "        return False\n",
        "    if float(msg) <= 0:\n",
        "        line_bot_api.reply_message(event.reply_token, TextSendMessage(text=\"請輸入大於 0 的有效數字\"))\n",
        "        return False\n",
        "    return True"
      ]
    },
    {
      "cell_type": "code",
      "execution_count": 257,
      "metadata": {},
      "outputs": [],
      "source": [
        "# 用戶傳送訊息的時候做出的回覆\n",
        "@handler.add(MessageEvent, message=TextMessage)\n",
        "def handle_text_message(event):\n",
        "    user_id = event.source.user_id\n",
        "    msg = event.message.text\n",
        "    # 初始化新的使用者 or 判斷輸入\n",
        "    if user_id not in user_state:\n",
        "        initializeNewUser(event.reply_token, user_id)\n",
        "        return\n",
        "    # 確保是已經存在的 user 之後再獲取 curStep \n",
        "    curStep = user_state[user_id].step\n",
        "    if isinstance(user_state[user_id].questions[curStep], ButtonQuestion):\n",
        "        # 按鈕問題不應該輸入文字回答\n",
        "        line_bot_api.reply_message(event.reply_token, TextSendMessage(text=\"請選擇按鈕選項\"))\n",
        "        return\n",
        "    # 數字驗證\n",
        "    if not validate_numeric_input(event, msg):\n",
        "        return\n",
        "    # 將資料加入, 前往下一題\n",
        "    # 驗證通過，加入正確資料，前往下一題目\n",
        "    user_state[user_id].data.append(float(msg))\n",
        "    NextQuestion(event.reply_token, user_id)"
      ]
    },
    {
      "cell_type": "code",
      "execution_count": 258,
      "metadata": {},
      "outputs": [],
      "source": [
        "# 按鈕按下之後的回應\n",
        "@handler.add(PostbackEvent)\n",
        "def handle_postback(event):\n",
        "    # 獲取使用者與回傳的按鈕資訊\n",
        "    user_id = event.source.user_id\n",
        "    postback_data = event.postback.data\n",
        "    # 初始化新的使用者 or 判斷輸入\n",
        "    if user_id not in user_state:\n",
        "        initializeNewUser(event.reply_token, user_id)\n",
        "        return\n",
        "    # 確保是已經存在的 user 之後再獲取 curStep\n",
        "    curStep = user_state[user_id].step\n",
        "    if isinstance(user_state[user_id].questions[curStep], TextQuestion):\n",
        "        # 文字問題不接受按鈕回答\n",
        "        line_bot_api.reply_message(event.reply_token, TextSendMessage(text=\"請輸入數字\"))\n",
        "        return\n",
        "    # 回答分支判斷\n",
        "    if(postback_data == 'exit'):\n",
        "        EndPrediction(event.reply_token, user_id)\n",
        "        return\n",
        "    if(postback_data == 'diabete'):\n",
        "        # 加入多個問題, 因此是 extend 而不是 append, 不需要使用指標解引用, python 會幫忙\n",
        "        user_state[user_id].questions.extend(diabeteQuestions)\n",
        "    elif(postback_data != 'continue'):\n",
        "        # 如果不是特別判斷的分支, 表示這是一般問題的回答, 將回傳的資料加入\n",
        "        user_state[user_id].data.append(postback_data)\n",
        "        \n",
        "    NextQuestion(event.reply_token, user_id)"
      ]
    },
    {
      "cell_type": "code",
      "execution_count": 259,
      "metadata": {},
      "outputs": [
        {
          "name": "stdout",
          "output_type": "stream",
          "text": [
            "https://68f3-61-223-99-48.ngrok-free.app\n",
            " * Serving Flask app '__main__'\n",
            " * Debug mode: off\n"
          ]
        },
        {
          "name": "stderr",
          "output_type": "stream",
          "text": [
            "WARNING: This is a development server. Do not use it in a production deployment. Use a production WSGI server instead.\n",
            " * Running on http://127.0.0.1:5000\n",
            "Press CTRL+C to quit\n",
            "C:\\Users\\lenovo\\AppData\\Local\\Temp\\ipykernel_412\\977178169.py:36: LineBotSdkDeprecatedIn30: Call to deprecated method reply_message. (Use 'from linebot.v3.messaging import MessagingApi' and 'MessagingApi(...).reply_message(...)' instead. See https://github.com/line/line-bot-sdk-python/blob/master/README.rst for more details.) -- Deprecated since version 3.0.0.\n",
            "  line_bot_api.reply_message(reply_token, template_message)\n",
            "127.0.0.1 - - [09/Jul/2024 22:50:31] \"POST / HTTP/1.1\" 200 -\n",
            "127.0.0.1 - - [09/Jul/2024 22:50:33] \"POST / HTTP/1.1\" 200 -\n",
            "127.0.0.1 - - [09/Jul/2024 22:50:35] \"POST / HTTP/1.1\" 200 -\n",
            "C:\\Users\\lenovo\\AppData\\Local\\Temp\\ipykernel_412\\977178169.py:18: LineBotSdkDeprecatedIn30: Call to deprecated method reply_message. (Use 'from linebot.v3.messaging import MessagingApi' and 'MessagingApi(...).reply_message(...)' instead. See https://github.com/line/line-bot-sdk-python/blob/master/README.rst for more details.) -- Deprecated since version 3.0.0.\n",
            "  line_bot_api.reply_message(reply_token, message)\n",
            "127.0.0.1 - - [09/Jul/2024 22:50:37] \"POST / HTTP/1.1\" 200 -\n",
            "127.0.0.1 - - [09/Jul/2024 22:50:52] \"POST / HTTP/1.1\" 200 -\n",
            "127.0.0.1 - - [09/Jul/2024 22:50:57] \"POST / HTTP/1.1\" 200 -\n",
            "127.0.0.1 - - [09/Jul/2024 22:50:59] \"POST / HTTP/1.1\" 200 -\n",
            "C:\\Users\\lenovo\\AppData\\Local\\Temp\\ipykernel_412\\596018206.py:15: LineBotSdkDeprecatedIn30: Call to deprecated method reply_message. (Use 'from linebot.v3.messaging import MessagingApi' and 'MessagingApi(...).reply_message(...)' instead. See https://github.com/line/line-bot-sdk-python/blob/master/README.rst for more details.) -- Deprecated since version 3.0.0.\n",
            "  line_bot_api.reply_message(reply_token, [\n",
            "C:\\Users\\lenovo\\AppData\\Local\\Temp\\ipykernel_412\\596018206.py:24: LineBotSdkDeprecatedIn30: Call to deprecated method reply_message. (Use 'from linebot.v3.messaging import MessagingApi' and 'MessagingApi(...).reply_message(...)' instead. See https://github.com/line/line-bot-sdk-python/blob/master/README.rst for more details.) -- Deprecated since version 3.0.0.\n",
            "  line_bot_api.reply_message(reply_token, TextSendMessage(text=\"謝謝光臨!! 有需要都可以在叫我喔\"))\n",
            "[2024-07-09 22:51:01,466] ERROR in app: Exception on / [POST]\n",
            "Traceback (most recent call last):\n",
            "  File \"C:\\Users\\lenovo\\AppData\\Local\\Temp\\ipykernel_412\\596018206.py\", line 24, in EndPrediction\n",
            "    line_bot_api.reply_message(reply_token, TextSendMessage(text=\"謝謝光臨!! 有需要都可以在叫我喔\"))\n",
            "  File \"d:\\Users\\lenovo\\anaconda3\\envs\\mnist-env\\lib\\site-packages\\deprecated\\classic.py\", line 285, in wrapper_function\n",
            "    return wrapped_(*args_, **kwargs_)\n",
            "  File \"d:\\Users\\lenovo\\anaconda3\\envs\\mnist-env\\lib\\site-packages\\linebot\\api.py\", line 123, in reply_message\n",
            "    self._post(\n",
            "  File \"d:\\Users\\lenovo\\anaconda3\\envs\\mnist-env\\lib\\site-packages\\linebot\\api.py\", line 2116, in _post\n",
            "    self.__check_error(response)\n",
            "  File \"d:\\Users\\lenovo\\anaconda3\\envs\\mnist-env\\lib\\site-packages\\linebot\\api.py\", line 2152, in __check_error\n",
            "    raise LineBotApiError(\n",
            "linebot.exceptions.LineBotApiError: LineBotApiError: status_code=400, request_id=90363225-6abb-411f-ac19-f646fe5488fe, error_response={\"details\": [], \"message\": \"Invalid reply token\"}, headers={'Server': 'legy', 'Content-Type': 'application/json', 'x-content-type-options': 'nosniff', 'x-frame-options': 'DENY', 'x-line-request-id': '90363225-6abb-411f-ac19-f646fe5488fe', 'x-xss-protection': '1; mode=block', 'Content-Length': '33', 'Expires': 'Tue, 09 Jul 2024 14:51:00 GMT', 'Cache-Control': 'max-age=0, no-cache, no-store', 'Pragma': 'no-cache', 'Date': 'Tue, 09 Jul 2024 14:51:00 GMT', 'Connection': 'close'}\n",
            "\n",
            "During handling of the above exception, another exception occurred:\n",
            "\n",
            "Traceback (most recent call last):\n",
            "  File \"d:\\Users\\lenovo\\anaconda3\\envs\\mnist-env\\lib\\site-packages\\flask\\app.py\", line 1473, in wsgi_app\n",
            "    response = self.full_dispatch_request()\n",
            "  File \"d:\\Users\\lenovo\\anaconda3\\envs\\mnist-env\\lib\\site-packages\\flask\\app.py\", line 882, in full_dispatch_request\n",
            "    rv = self.handle_user_exception(e)\n",
            "  File \"d:\\Users\\lenovo\\anaconda3\\envs\\mnist-env\\lib\\site-packages\\flask\\app.py\", line 880, in full_dispatch_request\n",
            "    rv = self.dispatch_request()\n",
            "  File \"d:\\Users\\lenovo\\anaconda3\\envs\\mnist-env\\lib\\site-packages\\flask\\app.py\", line 865, in dispatch_request\n",
            "    return self.ensure_sync(self.view_functions[rule.endpoint])(**view_args)  # type: ignore[no-any-return]\n",
            "  File \"C:\\Users\\lenovo\\AppData\\Local\\Temp\\ipykernel_412\\1422924657.py\", line 12, in webhook\n",
            "    handler.handle(body, signature)\n",
            "  File \"d:\\Users\\lenovo\\anaconda3\\envs\\mnist-env\\lib\\site-packages\\linebot\\webhook.py\", line 278, in handle\n",
            "    self.__invoke_func(func, event, payload)\n",
            "  File \"d:\\Users\\lenovo\\anaconda3\\envs\\mnist-env\\lib\\site-packages\\linebot\\webhook.py\", line 290, in __invoke_func\n",
            "    func(event)\n",
            "  File \"C:\\Users\\lenovo\\AppData\\Local\\Temp\\ipykernel_412\\3234369472.py\", line 22, in handle_text_message\n",
            "    NextQuestion(event.reply_token, user_id)\n",
            "  File \"C:\\Users\\lenovo\\AppData\\Local\\Temp\\ipykernel_412\\596018206.py\", line 39, in NextQuestion\n",
            "    process_final_input(reply_token, user_id)\n",
            "  File \"C:\\Users\\lenovo\\AppData\\Local\\Temp\\ipykernel_412\\596018206.py\", line 19, in process_final_input\n",
            "    EndPrediction(reply_token, user_id)\n",
            "  File \"C:\\Users\\lenovo\\AppData\\Local\\Temp\\ipykernel_412\\596018206.py\", line 25, in EndPrediction\n",
            "    except LineBotApiError as e:\n",
            "NameError: name 'LineBotApiError' is not defined\n",
            "127.0.0.1 - - [09/Jul/2024 22:51:01] \"POST / HTTP/1.1\" 500 -\n"
          ]
        }
      ],
      "source": [
        "print(public_url)\n",
        "if __name__ == \"__main__\":\n",
        "    app.run(port=port)\n",
        "# 2ijB2VvqZjVlxIhjxBtYK5xxWPA_5phxT2XFA6Cuviu4iAmSk\n",
        "# tasklist /FI \"IMAGENAME eq ngrok.exe\n",
        "# taskkill /PID ngrok.exe /F"
      ]
    }
  ],
  "metadata": {
    "colab": {
      "provenance": []
    },
    "kernelspec": {
      "display_name": "Python 3",
      "name": "python3"
    },
    "language_info": {
      "codemirror_mode": {
        "name": "ipython",
        "version": 3
      },
      "file_extension": ".py",
      "mimetype": "text/x-python",
      "name": "python",
      "nbconvert_exporter": "python",
      "pygments_lexer": "ipython3",
      "version": "3.8.15"
    }
  },
  "nbformat": 4,
  "nbformat_minor": 0
}
