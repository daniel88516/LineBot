{
  "cells": [
    {
      "cell_type": "markdown",
      "metadata": {},
      "source": [
        "### 以下部分只需要執行一遍"
      ]
    },
    {
      "cell_type": "code",
      "execution_count": null,
      "metadata": {},
      "outputs": [],
      "source": [
        "# ngrok\n",
        "import getpass\n",
        "from pyngrok import ngrok, conf\n",
        "from flask import Flask, request, abort\n",
        "from pyngrok import ngrok\n",
        "\n",
        "# 環境變數\n",
        "import os\n",
        "from dotenv import load_dotenv\n",
        "\n",
        "# 檔案處理\n",
        "import joblib\n",
        "import pandas as pd\n",
        "\n",
        "# LineBot\n",
        "from linebot import LineBotApi, WebhookHandler\n",
        "from linebot.exceptions import InvalidSignatureError\n",
        "from linebot.models import MessageEvent, TextMessage, TextSendMessage, TemplateSendMessage, ButtonsTemplate, PostbackAction, PostbackEvent"
      ]
    },
    {
      "cell_type": "code",
      "execution_count": null,
      "metadata": {
        "colab": {
          "base_uri": "https://localhost:8080/"
        },
        "id": "23y67tpOoX6I",
        "outputId": "a9863a5b-540e-4b20-81c2-1434abfbac0c"
      },
      "outputs": [],
      "source": [
        "# 和 ngrok 帳戶進行綁定\n",
        "!ngrok authtoken 2ijB2VvqZjVlxIhjxBtYK5xxWPA_5phxT2XFA6Cuviu4iAmSk"
      ]
    },
    {
      "cell_type": "code",
      "execution_count": null,
      "metadata": {
        "colab": {
          "base_uri": "https://localhost:8080/"
        },
        "id": "usggJ4-3pPUo",
        "outputId": "cf697ed6-7a71-43b7-cd62-9cf06be08c60"
      },
      "outputs": [],
      "source": [
        "# 輸入 ngrok token 並與 ngrok 進行認證。\n",
        "print(\"Enter your authtoken\")\n",
        "conf.get_default().auth_token = getpass.getpass()\n",
        "\n",
        "# Open a TCP ngrok tunnel to the SSH server\n",
        "connection_string = ngrok.connect(\"22\", \"tcp\").public_url\n",
        "\n",
        "ssh_url, port = connection_string.strip(\"tcp://\").split(\":\")\n",
        "print(f\" * ngrok tunnel available, access with `ssh root@{ssh_url} -p{port}`\")\n",
        "\n",
        "# 2ijB2VvqZjVlxIhjxBtYK5xxWPA_5phxT2XFA6Cuviu4iAmSk"
      ]
    },
    {
      "cell_type": "code",
      "execution_count": null,
      "metadata": {},
      "outputs": [],
      "source": [
        "# 載入 .env 文件\n",
        "load_dotenv()"
      ]
    },
    {
      "cell_type": "code",
      "execution_count": null,
      "metadata": {},
      "outputs": [],
      "source": [
        "app = Flask(__name__)\n",
        "port = 5000\n",
        "\n",
        "# Set up ngrok tunnel to expose local server\n",
        "public_url = ngrok.connect(port).public_url\n",
        "print(f\" * ngrok tunnel \\\"{public_url}\\\" -> \\\"http://127.0.0.1:{port}\\\" \") # 印出 tunnel\n",
        "\n",
        "# Line API 驗證\n",
        "access_token = os.getenv('LINE_ACCESS_TOKEN')\n",
        "secret = os.getenv('LINE_SECRET')\n",
        "line_bot_api = LineBotApi(access_token)  # token 確認\n",
        "handler = WebhookHandler(secret)      # secret 確認"
      ]
    },
    {
      "cell_type": "code",
      "execution_count": null,
      "metadata": {},
      "outputs": [],
      "source": [
        "\"\"\"\n",
        "接收並處理來自 Line 平台的 Webhook 請求。\n",
        "獲取並驗證請求的簽名。\n",
        "調用相應的處理函數處理請求數據。\n",
        "在簽名驗證失敗時返回 400 錯誤碼。\n",
        "\"\"\"\n",
        "@app.route(\"/\", methods=['POST'])\n",
        "def webhook():\n",
        "    body = request.get_data(as_text=True)\n",
        "    signature = request.headers['X-Line-Signature']\n",
        "    try:\n",
        "        handler.handle(body, signature)\n",
        "    except InvalidSignatureError:\n",
        "        abort(400)\n",
        "    return 'OK'"
      ]
    },
    {
      "cell_type": "markdown",
      "metadata": {},
      "source": [
        "### 每次都要執行一遍"
      ]
    },
    {
      "cell_type": "code",
      "execution_count": null,
      "metadata": {},
      "outputs": [],
      "source": [
        "# 載入模型\n",
        "model = joblib.load('./diabete_prediction_model.pkl')"
      ]
    },
    {
      "cell_type": "code",
      "execution_count": null,
      "metadata": {},
      "outputs": [],
      "source": [
        "# 定義 Question 類別, 方便問問題\n",
        "class Question:\n",
        "    def __init__(self, question_text):\n",
        "        # 設定問題的文字內容\n",
        "        self.question_text = question_text\n",
        "    def ask_question(self, reply_token):\n",
        "        raise NotImplementedError(\"這個方法應該在子類別實現\")\n",
        "    \n",
        "class TextQuestion(Question):\n",
        "    def __init__(self, question_text):\n",
        "        # 初始化跟父類別相同\n",
        "        super().__init__(question_text)\n",
        "\n",
        "    def ask_question(self, reply_token):\n",
        "        # 傳送文字問題\n",
        "        message = TextSendMessage(text=self.question_text)\n",
        "        # 使用 reply 方法傳送\n",
        "        line_bot_api.reply_message(reply_token, message)\n",
        "\n",
        "class ButtonQuestion(Question):\n",
        "    def __init__(self, question_text, choices, introduction=None):\n",
        "        super().__init__(question_text)\n",
        "        self.introduction = introduction if introduction else \"請選擇您的\" + question_text\n",
        "        self.choices = choices\n",
        "\n",
        "    def ask_question(self, reply_token):\n",
        "        actions = [PostbackAction(label=label, data=data) for label, data in self.choices]\n",
        "        template_message = TemplateSendMessage(\n",
        "            alt_text= \"請輸入\" + self.question_text,\n",
        "            template=ButtonsTemplate(\n",
        "                title=self.question_text,\n",
        "                text=self.introduction,\n",
        "                actions=actions\n",
        "            )\n",
        "        )\n",
        "        line_bot_api.reply_message(reply_token, template_message)"
      ]
    },
    {
      "cell_type": "code",
      "execution_count": null,
      "metadata": {},
      "outputs": [],
      "source": [
        "# 初始化新的使用者\n",
        "def initializeNewUser(reply_token, user_id):\n",
        "    # 在函數當中使用全域變數, 需要告知 python\n",
        "    global user_state \n",
        "    global questions\n",
        "    # 初始化\n",
        "    user_state[user_id] = UserState(questions)\n",
        "    # 問第一個問題\n",
        "    user_state[user_id].questions[0].ask_question(reply_token)\n",
        "    return"
      ]
    },
    {
      "cell_type": "code",
      "execution_count": null,
      "metadata": {},
      "outputs": [],
      "source": [
        "class UserState:\n",
        "    # 建構函式, 初始化用戶狀態, 紀錄 step, Question, data\n",
        "    def __init__(self, questions):\n",
        "        self.step = 0\n",
        "        self.questions = questions\n",
        "        self.data = []"
      ]
    },
    {
      "cell_type": "code",
      "execution_count": 28,
      "metadata": {},
      "outputs": [],
      "source": [
        "# 紀錄用戶當前輸入狀態\n",
        "user_state = {}\n",
        "# 問題列表, 之後可以在更加簡化\n",
        "introduction = (\"您好，我是健康智能管家。\\n\"\n",
        "                \"也是糖尿病預測專家，\\n\"\n",
        "                \"您可以叫我阿瑄=U=\\n\"\n",
        "                \"請問是否進行糖尿病預測呢?\")\n",
        "introQuestion = ButtonQuestion('是否進行糖尿病預測？', [('是', 'continue'), ('否', 'exit')], introduction)\n",
        "diabeteQuestions = [\n",
        "    ButtonQuestion('性別', [('男', '0'), ('女', '1'), ('其他', '2')]),\n",
        "    ButtonQuestion('高血壓狀況', [('有', '1'), ('無', '0')]),\n",
        "    ButtonQuestion('心臟病狀況', [('有', '1'), ('無', '0')]),\n",
        "    ButtonQuestion('吸煙習慣', [('天天抽菸', '4'), ('目前有吸菸', '3'), ('曾經有過', '1'), ('未曾吸菸', '0')]),\n",
        "    TextQuestion(\"請輸入年齡: \"),\n",
        "    TextQuestion(\"請輸入BMI: \"),\n",
        "    TextQuestion(\"請輸入HbA1c水平: \"),\n",
        "    TextQuestion(\"請輸入血糖水平: \")\n",
        "]\n",
        "questions = [introQuestion, *diabeteQuestions]\n",
        "\n"
      ]
    },
    {
      "cell_type": "code",
      "execution_count": null,
      "metadata": {},
      "outputs": [],
      "source": [
        "# 紀錄用戶當前輸入狀態\n",
        "user_state = {}\n",
        "# 問題列表, 之後可以在更加簡化\n",
        "introduction = (\"您好，我是健康智能管家。\\n\"\n",
        "                \"也是糖尿病預測專家，\\n\"\n",
        "                \"您可以叫我阿瑄=U=\\n\"\n",
        "                \"請問是否進行糖尿病預測呢?\")\n",
        "introQuestion = ButtonQuestion('是否進行糖尿病預測？', [('是', 'continue'), ('否', 'exit')], introduction)\n",
        "diabeteQuestions = [\n",
        "    ButtonQuestion('性別', [('男', '0'), ('女', '1'), ('其他', '2')]),\n",
        "    ButtonQuestion('高血壓狀況', [('有', '1'), ('無', '0')]),\n",
        "    ButtonQuestion('心臟病狀況', [('有', '1'), ('無', '0')]),\n",
        "    ButtonQuestion('吸煙習慣', [('天天抽菸', '4'), ('目前有吸菸', '3'), ('曾經有過', '1'), ('未曾吸菸', '0')]),\n",
        "    TextQuestion(\"請輸入年齡: \"),\n",
        "    TextQuestion(\"請輸入BMI: \"),\n",
        "    TextQuestion(\"請輸入HbA1c水平: \"),\n",
        "    TextQuestion(\"請輸入血糖水平: \")\n",
        "]\n",
        "questions = [introQuestion, *diabeteQuestions]"
      ]
    },
    {
      "cell_type": "code",
      "execution_count": null,
      "metadata": {},
      "outputs": [],
      "source": []
    },
    {
      "cell_type": "code",
      "execution_count": null,
      "metadata": {},
      "outputs": [],
      "source": [
        "# 最後輸出, 根據使用者輸入預測結果\n",
        "def process_final_input(reply_token, userState):\n",
        "    # 獲取使用者資料\n",
        "    user_data = userState.data\n",
        "    # pop 第一個問題的答案 ( 詢問是否預測 )\n",
        "    user_data.pop(0)\n",
        "    # 將使用者輸入轉換成 pandas, 並加入標籤\n",
        "    user_input = pd.DataFrame([user_data], columns=[\n",
        "        'gender', 'age', 'hypertension', 'heart_disease', 'smoking_history',\n",
        "        'bmi', 'HbA1c_level', 'blood_glucose_level'\n",
        "    ])\n",
        "\n",
        "    prediction = model.predict(user_input)\n",
        "    result = \"没有糖尿病\" if prediction[0] == 0 else \"有糖尿病\"\n",
        "\n",
        "    prediction = model.predict_proba(user_input)[0]\n",
        "\n",
        "    # reply Message, 接收用戶輸入之後傳送結果\n",
        "    line_bot_api.reply_message(reply_token, [\n",
        "        TextSendMessage(text=f\"{result}\"),\n",
        "        TextSendMessage(text=f\"糖尿病機率:{prediction[1]*100:.2f}%\"),\n",
        "    ])   \n",
        "    EndPrediction(reply_token, userSession)\n",
        "# 刪除使用者資料\n",
        "def EndPrediction(reply_token, user_id):\n",
        "    line_bot_api.reply_message(reply_token, TextSendMessage(text=\"謝謝光臨!! 有需要都可以在叫我喔\")) \n",
        "    del user_state[user_id]"
      ]
    },
    {
      "cell_type": "code",
      "execution_count": null,
      "metadata": {},
      "outputs": [],
      "source": [
        "# 正整數驗證\n",
        "def validate_numeric_input(event, msg):\n",
        "    if not msg.isdigit():\n",
        "        line_bot_api.reply_message(event.reply_token, TextSendMessage(text=\"請輸入正確的數字\"))\n",
        "        return False\n",
        "    if float(msg) <= 0:\n",
        "        line_bot_api.reply_message(event.reply_token, TextSendMessage(text=\"請輸入大於 0 的有效數字\"))\n",
        "        return False\n",
        "    return True"
      ]
    },
    {
      "cell_type": "code",
      "execution_count": null,
      "metadata": {},
      "outputs": [],
      "source": [
        "#下一個問題\n",
        "def NextQuestion(reply_token, user_id):\n",
        "    user_state[user_id]['step'] += 1\n",
        "    # 還沒到最後一個問題: 繼續問下一個問題\n",
        "    if user_state[user_id]['step'] < len(questions):\n",
        "        questions[user_state[user_id]['step']].ask_question(reply_token)\n",
        "    else:\n",
        "        # 否則輸出最後結果\n",
        "        process_final_input(reply_token, user_id)"
      ]
    },
    {
      "cell_type": "code",
      "execution_count": null,
      "metadata": {},
      "outputs": [],
      "source": [
        "# 用戶傳送訊息的時候做出的回覆\n",
        "@handler.add(MessageEvent, message=TextMessage)\n",
        "def handle_text_message(event):\n",
        "    user_id = event.source.user_id\n",
        "    msg = event.message.text\n",
        "    # 初始化新的使用者 or 判斷輸入\n",
        "    if user_id not in user_state:\n",
        "        initializeNewUser(event.reply_token, user_id)\n",
        "        return\n",
        "    if isinstance(questions[user_state[user_id]['step']], ButtonQuestion):\n",
        "        # 按鈕問題不應該輸入文字回答\n",
        "        line_bot_api.reply_message(event.reply_token, TextSendMessage(text=\"請選擇按鈕選項\"))\n",
        "        return\n",
        "    # 數字驗證\n",
        "    if not validate_numeric_input(event, msg):\n",
        "        return\n",
        "    # 將資料加入, 前往下一題\n",
        "    # 驗證通過，加入正確資料，前往下一題目\n",
        "    user_state[user_id]['data'].append(float(msg))\n",
        "    NextQuestion(event.reply_token, user_id)"
      ]
    },
    {
      "cell_type": "code",
      "execution_count": null,
      "metadata": {},
      "outputs": [],
      "source": [
        "# 按鈕按下之後的回應\n",
        "@handler.add(PostbackEvent)\n",
        "def handle_postback(event):\n",
        "    # 獲取使用者與回傳的按鈕資訊\n",
        "    user_id = event.source.user_id\n",
        "    postback_data = event.postback.data\n",
        "    # 初始化新的使用者 or 判斷輸入\n",
        "    if user_id not in user_state:\n",
        "        initializeNewUser(event.reply_token, user_id)\n",
        "        return\n",
        "    elif isinstance(questions[user_state[user_id]['step']], TextQuestion):\n",
        "        # 文字問題不接受按鈕回答\n",
        "        line_bot_api.reply_message(event.reply_token, TextSendMessage(text=\"請輸入數字\"))\n",
        "        return\n",
        "    # 第一個的按鈕問題特別判斷 ( 任何問題都可以加入 exit)\n",
        "    user_state[user_id]['data'].append(postback_data)\n",
        "    if(postback_data == 'exit'):\n",
        "        EndPrediction(event.reply_token, user_id)\n",
        "        return\n",
        "    NextQuestion(event.reply_token, user_id)"
      ]
    },
    {
      "cell_type": "code",
      "execution_count": null,
      "metadata": {},
      "outputs": [],
      "source": [
        "print(public_url)\n",
        "if __name__ == \"__main__\":\n",
        "    app.run(port=port)\n",
        "# 2ijB2VvqZjVlxIhjxBtYK5xxWPA_5phxT2XFA6Cuviu4iAmSk\n",
        "# tasklist /FI \"IMAGENAME eq ngrok.exe\n",
        "# taskkill /PID ngrok.exe /F"
      ]
    }
  ],
  "metadata": {
    "colab": {
      "provenance": []
    },
    "kernelspec": {
      "display_name": "Python 3",
      "name": "python3"
    },
    "language_info": {
      "codemirror_mode": {
        "name": "ipython",
        "version": 3
      },
      "file_extension": ".py",
      "mimetype": "text/x-python",
      "name": "python",
      "nbconvert_exporter": "python",
      "pygments_lexer": "ipython3",
      "version": "3.8.15"
    }
  },
  "nbformat": 4,
  "nbformat_minor": 0
}
