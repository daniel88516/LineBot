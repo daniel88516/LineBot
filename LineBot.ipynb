{
  "cells": [
    {
      "cell_type": "code",
      "execution_count": 1,
      "metadata": {
        "colab": {
          "base_uri": "https://localhost:8080/"
        },
        "id": "23y67tpOoX6I",
        "outputId": "a9863a5b-540e-4b20-81c2-1434abfbac0c"
      },
      "outputs": [
        {
          "name": "stdout",
          "output_type": "stream",
          "text": [
            "Authtoken saved to configuration file: C:\\Users\\lenovo\\AppData\\Local/ngrok/ngrok.yml\n"
          ]
        }
      ],
      "source": [
        "# 和 ngrok 帳戶進行綁定\n",
        "!ngrok authtoken 2igYHzOXqOKqwMdqwf6EajHCZgV_5gw6SAov6sUo7ewGD3Dzb"
      ]
    },
    {
      "cell_type": "code",
      "execution_count": 2,
      "metadata": {
        "colab": {
          "base_uri": "https://localhost:8080/"
        },
        "id": "usggJ4-3pPUo",
        "outputId": "cf697ed6-7a71-43b7-cd62-9cf06be08c60"
      },
      "outputs": [
        {
          "name": "stdout",
          "output_type": "stream",
          "text": [
            "Enter your authtoken, which can be copied from https://dashboard.ngrok.com/auth\n",
            " * ngrok tunnel available, access with `ssh root@6.tcp.ngrok.io -p15722`\n"
          ]
        }
      ],
      "source": [
        "import getpass\n",
        "from pyngrok import ngrok, conf\n",
        "\n",
        "\n",
        "#輸入 ngrok token 並與 ngrok 進行認證。\n",
        "print(\"Enter your authtoken, which can be copied from https://dashboard.ngrok.com/auth\")\n",
        "conf.get_default().auth_token = getpass.getpass()\n",
        "\n",
        "# Open a TCP ngrok tunnel to the SSH server\n",
        "connection_string = ngrok.connect(\"22\", \"tcp\").public_url\n",
        "\n",
        "ssh_url, port = connection_string.strip(\"tcp://\").split(\":\")\n",
        "print(f\" * ngrok tunnel available, access with `ssh root@{ssh_url} -p{port}`\")\n",
        "\n",
        "#2icxQFAqPrkPqGoa8jo4yED1DEW_4u4CbtfkK3Y9wZn3B67Kp"
      ]
    },
    {
      "cell_type": "code",
      "execution_count": 3,
      "metadata": {
        "colab": {
          "base_uri": "https://localhost:8080/"
        },
        "id": "Pm-TEMeUqF6_",
        "outputId": "072f73f1-03dc-48ab-a3f7-f6181cb8f709"
      },
      "outputs": [
        {
          "name": "stdout",
          "output_type": "stream",
          "text": [
            " * ngrok tunnel \"https://f03d-211-20-52-39.ngrok-free.app\" -> \"http://127.0.0.1:5000\" \n"
          ]
        },
        {
          "name": "stderr",
          "output_type": "stream",
          "text": [
            "C:\\Users\\lenovo\\AppData\\Local\\Temp\\ipykernel_6920\\4282925020.py:21: LineBotSdkDeprecatedIn30: Call to deprecated class LineBotApi. (Use v3 class; linebot.v3.<feature>. See https://github.com/line/line-bot-sdk-python/blob/master/README.rst for more details.) -- Deprecated since version 3.0.0.\n",
            "  line_bot_api = LineBotApi(access_token)  # token 確認\n",
            "C:\\Users\\lenovo\\AppData\\Local\\Temp\\ipykernel_6920\\4282925020.py:22: LineBotSdkDeprecatedIn30: Call to deprecated class WebhookHandler. (Use 'from linebot.v3.webhook import WebhookHandler' instead. See https://github.com/line/line-bot-sdk-python/blob/master/README.rst for more details.) -- Deprecated since version 3.0.0.\n",
            "  handler = WebhookHandler(secret)      # secret 確認\n"
          ]
        },
        {
          "name": "stdout",
          "output_type": "stream",
          "text": [
            " * Serving Flask app '__main__'\n",
            " * Debug mode: off\n"
          ]
        },
        {
          "name": "stderr",
          "output_type": "stream",
          "text": [
            "WARNING: This is a development server. Do not use it in a production deployment. Use a production WSGI server instead.\n",
            " * Running on http://127.0.0.1:5000\n",
            "Press CTRL+C to quit\n",
            "127.0.0.1 - - [02/Jul/2024 17:49:58] \"POST / HTTP/1.1\" 200 -\n",
            "C:\\Users\\lenovo\\AppData\\Local\\Temp\\ipykernel_6920\\4282925020.py:94: LineBotSdkDeprecatedIn30: Call to deprecated method reply_message. (Use 'from linebot.v3.messaging import MessagingApi' and 'MessagingApi(...).reply_message(...)' instead. See https://github.com/line/line-bot-sdk-python/blob/master/README.rst for more details.) -- Deprecated since version 3.0.0.\n",
            "  line_bot_api.reply_message(event.reply_token, buttons_template)\n",
            "127.0.0.1 - - [02/Jul/2024 17:50:13] \"POST / HTTP/1.1\" 200 -\n",
            "C:\\Users\\lenovo\\AppData\\Local\\Temp\\ipykernel_6920\\4282925020.py:196: LineBotSdkDeprecatedIn30: Call to deprecated method reply_message. (Use 'from linebot.v3.messaging import MessagingApi' and 'MessagingApi(...).reply_message(...)' instead. See https://github.com/line/line-bot-sdk-python/blob/master/README.rst for more details.) -- Deprecated since version 3.0.0.\n",
            "  line_bot_api.reply_message(reply_token, template_message)\n",
            "127.0.0.1 - - [02/Jul/2024 17:50:17] \"POST / HTTP/1.1\" 200 -\n",
            "127.0.0.1 - - [02/Jul/2024 17:50:19] \"POST / HTTP/1.1\" 200 -\n"
          ]
        }
      ],
      "source": [
        "from flask import Flask, request, abort\n",
        "from pyngrok import ngrok\n",
        "import joblib\n",
        "import pandas as pd\n",
        "from linebot import LineBotApi, WebhookHandler\n",
        "from linebot.exceptions import InvalidSignatureError\n",
        "from linebot.models import MessageEvent, TextMessage, TextSendMessage, TemplateSendMessage, ButtonsTemplate, PostbackAction, PostbackEvent\n",
        "\n",
        "app = Flask(__name__)\n",
        "port = 5000\n",
        "\n",
        "# Set up ngrok tunnel to expose local server\n",
        "public_url = ngrok.connect(port).public_url\n",
        "print(f\" * ngrok tunnel \\\"{public_url}\\\" -> \\\"http://127.0.0.1:{port}\\\" \") # 印出 tunnel\n",
        "\n",
        "# LINE Messaging API credentials\n",
        "# access_token = 'hr57G9x2N1RzDTLfuTmZcmEGbp4NOE+RhKy9bpYVAmJh8kkdmOxjjI2XyyJ1pL2G7fuT0dFbzu7tN/9CXcZtJM6r9n7XLE5ftm04RyX1mNoQ36SLxG+aZo6cGOQe0RUNcsPDNT2Jr+/0THQ4SboBuwdB04t89/1O/w1cDnyilFU='\n",
        "# secret = '55bd2bf40d93d598909c39d480562ddd'\n",
        "access_token = '5wVS/iUy2WzX8Xgbb8UMR1SRjRiFUTZ/hzxY7VyVOhlqL67rJEBli2hjFn0cnDuOu/cy/TjTcF7a7uVEoIe5qzVK1UDTu0NJtcWjO0Y+AYxTYrrDNZwnZZhQC9FQzPosJO6pHH5RrMTEA3paoVoC4AdB04t89/1O/w1cDnyilFU='\n",
        "secret = 'c4a775434285e5044364bfc085a0af68'\n",
        "line_bot_api = LineBotApi(access_token)  # token 確認\n",
        "handler = WebhookHandler(secret)      # secret 確認\n",
        "\n",
        "model = joblib.load('./diabete_prediction_model.pkl')\n",
        "\n",
        "# User state management\n",
        "user_state = {}\n",
        "\n",
        "# Text questions (4-7)\n",
        "questions = [\n",
        "    \"請輸入年齡: \",\n",
        "    \"請輸入BMI: \",\n",
        "    \"請輸入HbA1c水平: \",\n",
        "    \"請輸入血糖水平: \"\n",
        "]\n",
        "\n",
        "# Button questions (0-3)\n",
        "button_questions = {\n",
        "    0: ('性別', [\n",
        "        ('男', '0'),\n",
        "        ('女', '1'),\n",
        "        ('其他', '2')\n",
        "    ]),\n",
        "    1: ('高血壓狀況', [\n",
        "        ('有', '1'),\n",
        "        ('無', '0')\n",
        "    ]),\n",
        "    2: ('心臟病狀況', [\n",
        "        ('有', '1'),\n",
        "        ('無', '0')\n",
        "    ]),\n",
        "    3: ('吸煙習慣', [\n",
        "        ('ever', '4'),\n",
        "        ('current', '3'),\n",
        "        ('former', '1'),\n",
        "        ('never', '0')\n",
        "    ])\n",
        "}\n",
        "\n",
        "@app.route(\"/\", methods=['POST'])\n",
        "def webhook():\n",
        "    body = request.get_data(as_text=True)\n",
        "    signature = request.headers['X-Line-Signature']\n",
        "    try:\n",
        "        handler.handle(body, signature)\n",
        "    except InvalidSignatureError:\n",
        "        abort(400)\n",
        "    return 'OK'\n",
        "\n",
        "@handler.add(MessageEvent, message=TextMessage)\n",
        "def handle_text_message(event):\n",
        "    user_id = event.source.user_id\n",
        "    msg = event.message.text\n",
        "    if user_id not in user_state:\n",
        "        user_state[user_id] = {'step': -2, 'data': []}\n",
        "\n",
        "        introduction = (\"您好，我是健康智能管家。\\n\"\n",
        "                 \"也是糖尿病預測專家，\\n\"\n",
        "                 \"您可以叫我阿瑄=U=\\n\"\n",
        "                 \"請問是否進行糖尿病預測呢?\")\n",
        "\n",
        "        buttons_template = TemplateSendMessage(\n",
        "            alt_text='是否進行糖尿病預測？',\n",
        "            template=ButtonsTemplate(\n",
        "                title='是否進行糖尿病預測？',\n",
        "                text=introduction,\n",
        "                actions=[\n",
        "                    PostbackAction(label='是', data='action=yes'),\n",
        "                    PostbackAction(label='否', data='action=no')\n",
        "                ]\n",
        "            )\n",
        "        )\n",
        "\n",
        "        line_bot_api.reply_message(event.reply_token, buttons_template)\n",
        "        return\n",
        "\n",
        "    step = user_state[user_id]['step']\n",
        "\n",
        "    if step < 4:\n",
        "        line_bot_api.reply_message(event.reply_token, TextSendMessage(text=\"請選擇按鈕選項。\"))\n",
        "        return\n",
        "\n",
        "    current_question_index = step - 4\n",
        "    try:\n",
        "        if current_question_index >= 0:  # 0 1 2 3 => button部分\n",
        "            float_msg = float(msg)\n",
        "            if float_msg < 0: #負數偵錯\n",
        "                line_bot_api.reply_message(\n",
        "                    event.reply_token,\n",
        "                    TextSendMessage(text=\"請輸入大於等於零的有效數字\")\n",
        "                )\n",
        "                return\n",
        "            user_state[user_id]['data'].append(float_msg)\n",
        "            step += 1\n",
        "            user_state[user_id]['step'] = step\n",
        "\n",
        "            if step < 8:\n",
        "                line_bot_api.reply_message(\n",
        "                    event.reply_token,\n",
        "                    TextSendMessage(text=questions[current_question_index + 1])\n",
        "                )\n",
        "            else:\n",
        "                process_final_input(event.reply_token, user_id)\n",
        "        else: # 4 5 6 7 => text部分\n",
        "            line_bot_api.reply_message(\n",
        "                event.reply_token,\n",
        "                TextSendMessage(text=\"請選擇按鈕選項。\")\n",
        "            )\n",
        "    except ValueError: #輸入非數字字元的偵錯\n",
        "        line_bot_api.reply_message(\n",
        "            event.reply_token,\n",
        "            TextSendMessage(text=\"請輸入有效數字\")\n",
        "        )\n",
        "\n",
        "#最後輸出\n",
        "def process_final_input(reply_token, user_id):\n",
        "    user_data = user_state[user_id]['data']\n",
        "    user_input = pd.DataFrame([user_data], columns=[\n",
        "        'gender', 'age', 'hypertension', 'heart_disease', 'smoking_history',\n",
        "        'bmi', 'HbA1c_level', 'blood_glucose_level'\n",
        "    ])\n",
        "\n",
        "\n",
        "    prediction = model.predict(user_input)\n",
        "    result = \"没有糖尿病\" if prediction[0] == 0 else \"有糖尿病\"\n",
        "\n",
        "    prediction = model.predict_proba(user_input)[0]\n",
        "\n",
        "    line_bot_api.reply_message(reply_token, [\n",
        "        TextSendMessage(text=f\"{result}\"),\n",
        "        TextSendMessage(text=f\"糖尿病機率:{prediction[1]*100:.2f}%\"),\n",
        "        TextSendMessage(text=\"謝謝光臨!! 有需要都可以在叫我喔\")\n",
        "    ])\n",
        "    del user_state[user_id]\n",
        "\n",
        "@handler.add(PostbackEvent)\n",
        "def handle_postback(event):\n",
        "    user_id = event.source.user_id\n",
        "    data = event.postback.data\n",
        "\n",
        "    if user_id not in user_state:\n",
        "        user_state[user_id] = {'step': -2, 'data': []}\n",
        "\n",
        "    if data == 'action=yes':\n",
        "        user_state[user_id] = {'step': 0, 'data': []}\n",
        "        send_button_template(event.reply_token, 0)\n",
        "    elif data == 'action=no':\n",
        "        line_bot_api.reply_message(\n",
        "            event.reply_token,\n",
        "            TextSendMessage(text=\"謝謝光臨!! 有需要都可以在叫我喔\")\n",
        "        )\n",
        "        del user_state[user_id]\n",
        "    else:\n",
        "        step = user_state[user_id]['step']\n",
        "        user_state[user_id]['data'].append(int(data))\n",
        "        step += 1\n",
        "        user_state[user_id]['step'] = step\n",
        "        if step < 4:\n",
        "            send_button_template(event.reply_token, step)\n",
        "        elif step == 4:\n",
        "            line_bot_api.reply_message(event.reply_token, TextSendMessage(text=questions[0]))\n",
        "        else:\n",
        "            # Handle the next text question\n",
        "            current_question_index = step - 4\n",
        "            line_bot_api.reply_message(event.reply_token, TextSendMessage(text=questions[current_question_index]))\n",
        "\n",
        "def send_button_template(reply_token, step):\n",
        "    title, choices = button_questions[step]\n",
        "    actions = [PostbackAction(label=label, data=data) for label, data in choices]\n",
        "    template_message = TemplateSendMessage(\n",
        "        alt_text=f'{title}',\n",
        "        template=ButtonsTemplate(\n",
        "            title=title, text=f'請選擇您的{title}', actions=actions\n",
        "        )\n",
        "    )\n",
        "    line_bot_api.reply_message(reply_token, template_message)\n",
        "    step\n",
        "\n",
        "if __name__ == \"__main__\":\n",
        "    app.run(port=port)"
      ]
    }
  ],
  "metadata": {
    "colab": {
      "provenance": []
    },
    "kernelspec": {
      "display_name": "Python 3",
      "name": "python3"
    },
    "language_info": {
      "codemirror_mode": {
        "name": "ipython",
        "version": 3
      },
      "file_extension": ".py",
      "mimetype": "text/x-python",
      "name": "python",
      "nbconvert_exporter": "python",
      "pygments_lexer": "ipython3",
      "version": "3.8.15"
    }
  },
  "nbformat": 4,
  "nbformat_minor": 0
}
